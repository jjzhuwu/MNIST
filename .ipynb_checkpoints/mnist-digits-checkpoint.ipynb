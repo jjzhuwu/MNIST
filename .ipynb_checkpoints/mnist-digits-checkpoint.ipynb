{
 "cells": [
  {
   "cell_type": "markdown",
   "metadata": {},
   "source": [
    "# MNIST Digits\n",
    "\n",
    "In this notebook, we fit a simple neural network that interprets hand-written digits."
   ]
  },
  {
   "cell_type": "code",
   "execution_count": 1,
   "metadata": {
    "_cell_guid": "b1076dfc-b9ad-4769-8c92-a6c4dae69d19",
    "_uuid": "8f2839f25d086af736a60e9eeb907d3b93b6e0e5"
   },
   "outputs": [
    {
     "name": "stdout",
     "output_type": "stream",
     "text": [
      "/kaggle/input/digit-recognizer/sample_submission.csv\n",
      "/kaggle/input/digit-recognizer/test.csv\n",
      "/kaggle/input/digit-recognizer/train.csv\n"
     ]
    }
   ],
   "source": [
    "# This Python 3 environment comes with many helpful analytics libraries installed\n",
    "# It is defined by the kaggle/python Docker image: https://github.com/kaggle/docker-python\n",
    "# For example, here's several helpful packages to load\n",
    "\n",
    "import numpy as np # linear algebra\n",
    "import pandas as pd # data processing, CSV file I/O (e.g. pd.read_csv)\n",
    "\n",
    "# Input data files are available in the read-only \"../input/\" directory\n",
    "# For example, running this (by clicking run or pressing Shift+Enter) will list all files under the input directory\n",
    "\n",
    "import os\n",
    "for dirname, _, filenames in os.walk('/kaggle/input'):\n",
    "    for filename in filenames:\n",
    "        print(os.path.join(dirname, filename))\n",
    "\n",
    "# You can write up to 5GB to the current directory (/kaggle/working/) that gets preserved as output when you create a version using \"Save & Run All\" \n",
    "# You can also write temporary files to /kaggle/temp/, but they won't be saved outside of the current session"
   ]
  },
  {
   "cell_type": "markdown",
   "metadata": {},
   "source": [
    "## Overview of the Data"
   ]
  },
  {
   "cell_type": "code",
   "execution_count": 2,
   "metadata": {
    "_cell_guid": "79c7e3d0-c299-4dcb-8224-4455121ee9b0",
    "_uuid": "d629ff2d2480ee46fbb7e2d37f6b5fab8052498a"
   },
   "outputs": [],
   "source": [
    "data = pd.read_csv(\"/kaggle/input/digit-recognizer/train.csv\")\n",
    "Xtest = pd.read_csv(\"/kaggle/input/digit-recognizer/test.csv\")"
   ]
  },
  {
   "cell_type": "code",
   "execution_count": 3,
   "metadata": {},
   "outputs": [
    {
     "name": "stdout",
     "output_type": "stream",
     "text": [
      "(42000, 785)\n",
      "(28000, 784)\n"
     ]
    }
   ],
   "source": [
    "print(data.shape)\n",
    "print(Xtest.shape)"
   ]
  },
  {
   "cell_type": "code",
   "execution_count": 4,
   "metadata": {},
   "outputs": [
    {
     "name": "stdout",
     "output_type": "stream",
     "text": [
      "1    4684\n",
      "7    4401\n",
      "3    4351\n",
      "9    4188\n",
      "2    4177\n",
      "6    4137\n",
      "0    4132\n",
      "4    4072\n",
      "8    4063\n",
      "5    3795\n",
      "Name: label, dtype: int64\n"
     ]
    }
   ],
   "source": [
    "ydata = data.label\n",
    "data = data.drop(\"label\", axis=1)\n",
    "print(ydata.value_counts())"
   ]
  },
  {
   "cell_type": "code",
   "execution_count": 5,
   "metadata": {},
   "outputs": [],
   "source": [
    "from sklearn.preprocessing import OneHotEncoder\n",
    "\n",
    "ohe = OneHotEncoder(sparse=False)\n",
    "ydata = ohe.fit_transform(np.array(ydata).reshape(-1, 1))"
   ]
  },
  {
   "cell_type": "code",
   "execution_count": 6,
   "metadata": {},
   "outputs": [
    {
     "data": {
      "text/plain": [
       "<matplotlib.image.AxesImage at 0x7f37f182a990>"
      ]
     },
     "execution_count": 6,
     "metadata": {},
     "output_type": "execute_result"
    },
    {
     "data": {
      "image/png": "[encoded data removed]",
      "text/plain": [
       "<Figure size 432x288 with 1 Axes>"
      ]
     },
     "metadata": {
      "needs_background": "light"
     },
     "output_type": "display_data"
    }
   ],
   "source": [
    "sample_image = np.array(data.iloc[274, :])\n",
    "sample_image = sample_image.reshape(28, 28)\n",
    "\n",
    "import matplotlib.pyplot as plt\n",
    "plt.imshow(sample_image)"
   ]
  },
  {
   "cell_type": "markdown",
   "metadata": {},
   "source": [
    "Reshape data to 4 dimension so we can feed it into the neural network."
   ]
  },
  {
   "cell_type": "code",
   "execution_count": 7,
   "metadata": {},
   "outputs": [
    {
     "name": "stdout",
     "output_type": "stream",
     "text": [
      "(42000, 28, 28, 1)\n",
      "(28000, 28, 28, 1)\n"
     ]
    },
    {
     "data": {
      "image/png": "[encoded data removed]",
      "text/plain": [
       "<Figure size 432x288 with 1 Axes>"
      ]
     },
     "metadata": {
      "needs_background": "light"
     },
     "output_type": "display_data"
    }
   ],
   "source": [
    "data = np.array(data)\n",
    "Xtest = np.array(Xtest)\n",
    "\n",
    "data = data.reshape((-1, 28, 28, 1))\n",
    "print(data.shape)\n",
    "plt.imshow(data[274, :, :, 0])\n",
    "\n",
    "Xtest = Xtest.reshape((-1, 28, 28, 1))\n",
    "print(Xtest.shape)"
   ]
  },
  {
   "cell_type": "markdown",
   "metadata": {},
   "source": [
    "## Explore Neural Network Architecture"
   ]
  },
  {
   "cell_type": "code",
   "execution_count": 8,
   "metadata": {},
   "outputs": [
    {
     "name": "stderr",
     "output_type": "stream",
     "text": [
      "Using TensorFlow backend.\n"
     ]
    }
   ],
   "source": [
    "import keras\n",
    "from keras.models import Sequential\n",
    "from keras.layers import Dense, Dropout, Flatten, Conv2D, MaxPooling2D, BatchNormalization\n",
    "from keras.callbacks import ModelCheckpoint, ReduceLROnPlateau\n",
    "\n",
    "weights_fname = 'mnist'\n",
    "\n",
    "checkpoints = ModelCheckpoint(weights_fname + '-best.h5', monitor='val_accuracy', verbose=1,\n",
    "                              save_best_only=True, save_weights_only=True, mode='max', period=1)\n",
    "\n",
    "#learning_rate_reduction = ReduceLROnPlateau(monitor='val_accuracy',\n",
    "#                                            patience=5,\n",
    "#                                            verbose=1,\n",
    "#                                            factor=0.85,\n",
    "#                                            min_lr=1e-10)"
   ]
  },
  {
   "cell_type": "code",
   "execution_count": 9,
   "metadata": {},
   "outputs": [],
   "source": [
    "from sklearn.model_selection import train_test_split\n",
    "\n",
    "x_interim, x_eval, y_interim, y_eval = train_test_split(data,\n",
    "                                           ydata,\n",
    "                                           test_size=0.2)\n",
    "\n",
    "# split remaining data into train and test sets\n",
    "x_train, x_test, y_train, y_test = train_test_split(x_interim,\n",
    "                                                   y_interim,\n",
    "                                                   test_size=0.4)"
   ]
  },
  {
   "cell_type": "markdown",
   "metadata": {},
   "source": [
    "The neural network has 4 levels.\n",
    "\n",
    "Layer 1: Convolution layer with 10 filters of size 3 $\\times$ 3, activation function is relu.\n",
    "\n",
    "Layer 2: Convolution layer with 20 filters of size 3 $\\times$ 3, activation function is relu. Apply 40% dropout on output.\n",
    "\n",
    "Layer 3: Dense layer with 64 neurons, activation function is relu. Apply 40% dropout on output.\n",
    "\n",
    "Layer 4: Output layer with 10 neurons, activation function is softmax for multi-class classfication.\n",
    "\n",
    "The neural network commented is one of the most optimal neural network structures on Kaggle, which performs better than our model but is more complex."
   ]
  },
  {
   "cell_type": "code",
   "execution_count": 14,
   "metadata": {},
   "outputs": [],
   "source": [
    "num_classes = 10\n",
    "\n",
    "def get_model():\n",
    "    model = Sequential()\n",
    "    \n",
    "    model.add(Conv2D(10, kernel_size=(3,3), activation='relu', input_shape=(28, 28, 1)))\n",
    "    model.add(BatchNormalization())\n",
    "    model.add(Conv2D(20, kernel_size=(3,3), activation=\"relu\"))\n",
    "    model.add(BatchNormalization())\n",
    "    model.add(Dropout(0.4))\n",
    "    \n",
    "    model.add(Flatten())\n",
    "    model.add(Dense(64, activation='relu'))\n",
    "    model.add(BatchNormalization())\n",
    "    model.add(Dropout(0.4))\n",
    "    model.add(Dense(num_classes, activation='softmax'))\n",
    "    \"\"\"\n",
    "    model.add(Conv2D(32, kernel_size=(3,3), activation='relu', input_shape=(28, 28, 1)))\n",
    "    model.add(BatchNormalization())\n",
    "    model.add(Conv2D(32, kernel_size=(3,3), activation=\"relu\"))\n",
    "    model.add(BatchNormalization())\n",
    "    model.add(Conv2D(32,kernel_size=5,strides=2,padding='same',activation='relu'))\n",
    "    model.add(BatchNormalization())\n",
    "    model.add(Dropout(0.4))\n",
    "    \n",
    "    model.add(Conv2D(64,kernel_size=3,activation='relu'))\n",
    "    model.add(BatchNormalization())\n",
    "    model.add(Conv2D(64,kernel_size=3,activation='relu'))\n",
    "    model.add(BatchNormalization())\n",
    "    model.add(Conv2D(64,kernel_size=5,strides=2,padding='same',activation='relu'))\n",
    "    model.add(BatchNormalization())\n",
    "    model.add(Dropout(0.4))\n",
    "\n",
    "    model.add(Flatten())\n",
    "    model.add(Dense(128, activation='relu'))\n",
    "    model.add(BatchNormalization())\n",
    "    model.add(Dropout(0.4))\n",
    "    model.add(Dense(num_classes, activation='softmax')) \"\"\"\n",
    "    return model"
   ]
  },
  {
   "cell_type": "code",
   "execution_count": 15,
   "metadata": {},
   "outputs": [
    {
     "name": "stdout",
     "output_type": "stream",
     "text": [
      "Model: \"sequential_3\"\n",
      "_________________________________________________________________\n",
      "Layer (type)                 Output Shape              Param #   \n",
      "=================================================================\n",
      "conv2d_9 (Conv2D)            (None, 26, 26, 10)        100       \n",
      "_________________________________________________________________\n",
      "batch_normalization_11 (Batc (None, 26, 26, 10)        40        \n",
      "_________________________________________________________________\n",
      "conv2d_10 (Conv2D)           (None, 24, 24, 20)        1820      \n",
      "_________________________________________________________________\n",
      "batch_normalization_12 (Batc (None, 24, 24, 20)        80        \n",
      "_________________________________________________________________\n",
      "dropout_6 (Dropout)          (None, 24, 24, 20)        0         \n",
      "_________________________________________________________________\n",
      "flatten_3 (Flatten)          (None, 11520)             0         \n",
      "_________________________________________________________________\n",
      "dense_5 (Dense)              (None, 64)                737344    \n",
      "_________________________________________________________________\n",
      "batch_normalization_13 (Batc (None, 64)                256       \n",
      "_________________________________________________________________\n",
      "dropout_7 (Dropout)          (None, 64)                0         \n",
      "_________________________________________________________________\n",
      "dense_6 (Dense)              (None, 10)                650       \n",
      "=================================================================\n",
      "Total params: 740,290\n",
      "Trainable params: 740,102\n",
      "Non-trainable params: 188\n",
      "_________________________________________________________________\n",
      "None\n"
     ]
    }
   ],
   "source": [
    "model = get_model()\n",
    "model.compile(\n",
    "    # set the loss as binary_crossentropy\n",
    "    loss=keras.losses.CategoricalCrossentropy(),\n",
    "    # set the optimizer as stochastic gradient descent\n",
    "    optimizer=\"adam\",\n",
    "    # set the metric as accuracy\n",
    "    metrics=['accuracy']\n",
    ")\n",
    "\n",
    "print(model.summary())"
   ]
  },
  {
   "cell_type": "markdown",
   "metadata": {},
   "source": [
    "We add data augmentation so that the neural network is more likely to have the same prediction if we slightly rotate or shift the input image."
   ]
  },
  {
   "cell_type": "code",
   "execution_count": 16,
   "metadata": {},
   "outputs": [],
   "source": [
    "from keras.preprocessing.image import ImageDataGenerator\n",
    "\n",
    "datagen=ImageDataGenerator(\n",
    "        rotation_range=10,  \n",
    "        zoom_range = 0.1,  \n",
    "        width_shift_range=0.1, \n",
    "        height_shift_range=0.1)"
   ]
  },
  {
   "cell_type": "code",
   "execution_count": 17,
   "metadata": {},
   "outputs": [
    {
     "name": "stdout",
     "output_type": "stream",
     "text": [
      "Epoch 1/25\n",
      "315/315 [==============================] - 21s 66ms/step - loss: 0.6948 - accuracy: 0.7856 - val_loss: 0.2271 - val_accuracy: 0.9340\n",
      "\n",
      "Epoch 00001: val_accuracy improved from -inf to 0.93400, saving model to mnist-best.h5\n",
      "Epoch 2/25\n",
      "315/315 [==============================] - 19s 61ms/step - loss: 0.3003 - accuracy: 0.9094 - val_loss: 0.1681 - val_accuracy: 0.9508\n",
      "\n",
      "Epoch 00002: val_accuracy improved from 0.93400 to 0.95082, saving model to mnist-best.h5\n",
      "Epoch 3/25\n",
      "315/315 [==============================] - 20s 63ms/step - loss: 0.2395 - accuracy: 0.9266 - val_loss: 0.1130 - val_accuracy: 0.9664\n",
      "\n",
      "Epoch 00003: val_accuracy improved from 0.95082 to 0.96644, saving model to mnist-best.h5\n",
      "Epoch 4/25\n",
      "315/315 [==============================] - 20s 63ms/step - loss: 0.2033 - accuracy: 0.9394 - val_loss: 0.1418 - val_accuracy: 0.9570\n",
      "\n",
      "Epoch 00004: val_accuracy did not improve from 0.96644\n",
      "Epoch 5/25\n",
      "315/315 [==============================] - 19s 61ms/step - loss: 0.1852 - accuracy: 0.9445 - val_loss: 0.0911 - val_accuracy: 0.9713\n",
      "\n",
      "Epoch 00005: val_accuracy improved from 0.96644 to 0.97128, saving model to mnist-best.h5\n",
      "Epoch 6/25\n",
      "315/315 [==============================] - 19s 62ms/step - loss: 0.1743 - accuracy: 0.9478 - val_loss: 0.0960 - val_accuracy: 0.9697\n",
      "\n",
      "Epoch 00006: val_accuracy did not improve from 0.97128\n",
      "Epoch 7/25\n",
      "315/315 [==============================] - 20s 62ms/step - loss: 0.1633 - accuracy: 0.9492 - val_loss: 0.1401 - val_accuracy: 0.9568\n",
      "\n",
      "Epoch 00007: val_accuracy did not improve from 0.97128\n",
      "Epoch 8/25\n",
      "315/315 [==============================] - 19s 61ms/step - loss: 0.1519 - accuracy: 0.9556 - val_loss: 0.0807 - val_accuracy: 0.9740\n",
      "\n",
      "Epoch 00008: val_accuracy improved from 0.97128 to 0.97396, saving model to mnist-best.h5\n",
      "Epoch 9/25\n",
      "315/315 [==============================] - 19s 61ms/step - loss: 0.1458 - accuracy: 0.9553 - val_loss: 0.1014 - val_accuracy: 0.9692\n",
      "\n",
      "Epoch 00009: val_accuracy did not improve from 0.97396\n",
      "Epoch 10/25\n",
      "315/315 [==============================] - 20s 63ms/step - loss: 0.1432 - accuracy: 0.9568 - val_loss: 0.0719 - val_accuracy: 0.9772\n",
      "\n",
      "Epoch 00010: val_accuracy improved from 0.97396 to 0.97723, saving model to mnist-best.h5\n",
      "Epoch 11/25\n",
      "315/315 [==============================] - 19s 61ms/step - loss: 0.1347 - accuracy: 0.9598 - val_loss: 0.0641 - val_accuracy: 0.9806\n",
      "\n",
      "Epoch 00011: val_accuracy improved from 0.97723 to 0.98058, saving model to mnist-best.h5\n",
      "Epoch 12/25\n",
      "315/315 [==============================] - 19s 61ms/step - loss: 0.1311 - accuracy: 0.9598 - val_loss: 0.0732 - val_accuracy: 0.9772\n",
      "\n",
      "Epoch 00012: val_accuracy did not improve from 0.98058\n",
      "Epoch 13/25\n",
      "315/315 [==============================] - 20s 63ms/step - loss: 0.1242 - accuracy: 0.9635 - val_loss: 0.0534 - val_accuracy: 0.9836\n",
      "\n",
      "Epoch 00013: val_accuracy improved from 0.98058 to 0.98363, saving model to mnist-best.h5\n",
      "Epoch 14/25\n",
      "315/315 [==============================] - 19s 61ms/step - loss: 0.1201 - accuracy: 0.9637 - val_loss: 0.0834 - val_accuracy: 0.9740\n",
      "\n",
      "Epoch 00014: val_accuracy did not improve from 0.98363\n",
      "Epoch 15/25\n",
      "315/315 [==============================] - 19s 60ms/step - loss: 0.1184 - accuracy: 0.9648 - val_loss: 0.0525 - val_accuracy: 0.9842\n",
      "\n",
      "Epoch 00015: val_accuracy improved from 0.98363 to 0.98415, saving model to mnist-best.h5\n",
      "Epoch 16/25\n",
      "315/315 [==============================] - 20s 63ms/step - loss: 0.1125 - accuracy: 0.9648 - val_loss: 0.0404 - val_accuracy: 0.9876\n",
      "\n",
      "Epoch 00016: val_accuracy improved from 0.98415 to 0.98757, saving model to mnist-best.h5\n",
      "Epoch 17/25\n",
      "315/315 [==============================] - 20s 64ms/step - loss: 0.1141 - accuracy: 0.9653 - val_loss: 0.0433 - val_accuracy: 0.9876\n",
      "\n",
      "Epoch 00017: val_accuracy did not improve from 0.98757\n",
      "Epoch 18/25\n",
      "315/315 [==============================] - 19s 61ms/step - loss: 0.1077 - accuracy: 0.9666 - val_loss: 0.0578 - val_accuracy: 0.9809\n",
      "\n",
      "Epoch 00018: val_accuracy did not improve from 0.98757\n",
      "Epoch 19/25\n",
      "315/315 [==============================] - 20s 65ms/step - loss: 0.1084 - accuracy: 0.9658 - val_loss: 0.0421 - val_accuracy: 0.9867\n",
      "\n",
      "Epoch 00019: val_accuracy did not improve from 0.98757\n",
      "Epoch 20/25\n",
      "315/315 [==============================] - 19s 61ms/step - loss: 0.1087 - accuracy: 0.9657 - val_loss: 0.0583 - val_accuracy: 0.9824\n",
      "\n",
      "Epoch 00020: val_accuracy did not improve from 0.98757\n",
      "Epoch 21/25\n",
      "315/315 [==============================] - 19s 61ms/step - loss: 0.1031 - accuracy: 0.9686 - val_loss: 0.0730 - val_accuracy: 0.9775\n",
      "\n",
      "Epoch 00021: val_accuracy did not improve from 0.98757\n",
      "Epoch 22/25\n",
      "315/315 [==============================] - 20s 63ms/step - loss: 0.1030 - accuracy: 0.9690 - val_loss: 0.0471 - val_accuracy: 0.9852\n",
      "\n",
      "Epoch 00022: val_accuracy did not improve from 0.98757\n",
      "Epoch 23/25\n",
      "315/315 [==============================] - 19s 61ms/step - loss: 0.1002 - accuracy: 0.9701 - val_loss: 0.0580 - val_accuracy: 0.9824\n",
      "\n",
      "Epoch 00023: val_accuracy did not improve from 0.98757\n",
      "Epoch 24/25\n",
      "315/315 [==============================] - 19s 62ms/step - loss: 0.0991 - accuracy: 0.9710 - val_loss: 0.0427 - val_accuracy: 0.9873\n",
      "\n",
      "Epoch 00024: val_accuracy did not improve from 0.98757\n",
      "Epoch 25/25\n",
      "315/315 [==============================] - 20s 62ms/step - loss: 0.0957 - accuracy: 0.9713 - val_loss: 0.0396 - val_accuracy: 0.9882\n",
      "\n",
      "Epoch 00025: val_accuracy improved from 0.98757 to 0.98824, saving model to mnist-best.h5\n"
     ]
    }
   ],
   "source": [
    "history = model.fit(\n",
    "    datagen.flow(x_train,\n",
    "    y_train,\n",
    "    batch_size=64),\n",
    "    steps_per_epoch=x_train.shape[0] / 64,\n",
    "    verbose=1,\n",
    "    epochs=25,\n",
    "    validation_data=(x_test, y_test),\n",
    "    callbacks=[checkpoints#, learning_rate_reduction\n",
    "              ],\n",
    ")"
   ]
  },
  {
   "cell_type": "code",
   "execution_count": 18,
   "metadata": {},
   "outputs": [
    {
     "name": "stdout",
     "output_type": "stream",
     "text": [
      "The accuracy score on x_eval is  0.9855952380952381\n"
     ]
    }
   ],
   "source": [
    "y_pred = model.predict_classes(x_eval)\n",
    "print(\"The accuracy score on x_eval is \", np.sum(np.equal(y_pred.reshape(-1), np.argmax(y_eval, axis=1).flatten()))/y_pred.shape[0])"
   ]
  },
  {
   "cell_type": "code",
   "execution_count": 19,
   "metadata": {},
   "outputs": [
    {
     "data": {
      "image/png": "[encoded data removed]",
      "text/plain": [
       "<Figure size 432x288 with 2 Axes>"
      ]
     },
     "metadata": {
      "needs_background": "light"
     },
     "output_type": "display_data"
    }
   ],
   "source": [
    "fig, ax = plt.subplots(2, 1)\n",
    "\n",
    "ax[0].plot(history.history['loss'], color='b', label='Training loss')\n",
    "ax[0].plot(history.history['val_loss'], color='r', label='validation loss', axes=ax[0])\n",
    "legend = ax[0].legend(loc='best', shadow=True)\n",
    "\n",
    "ax[1].plot(history.history['accuracy'], color='b', label='Training accuracy')\n",
    "ax[1].plot(history.history['val_accuracy'], color='r', label='Validation accuracy')\n",
    "legend = ax[1].legend(loc='best', shadow=True)"
   ]
  },
  {
   "cell_type": "markdown",
   "metadata": {},
   "source": [
    "We see that the validation loss has plateau for later epochs, thus it is likely that we have reached one of the optimal weights. Now we examine digits that are not interpreted correctly."
   ]
  },
  {
   "cell_type": "code",
   "execution_count": 20,
   "metadata": {},
   "outputs": [],
   "source": [
    "mask = np.not_equal(np.argmax(y_eval, axis=1), y_pred)\n",
    "indices = [i for i in range(len(x_eval)) if mask[i]]\n",
    "X_eval_wrong = x_eval[indices]\n",
    "y_pred_wrong = y_pred[indices]\n",
    "y_eval_wrong = np.argmax(y_eval, axis=1)[indices]"
   ]
  },
  {
   "cell_type": "code",
   "execution_count": 21,
   "metadata": {},
   "outputs": [
    {
     "name": "stdout",
     "output_type": "stream",
     "text": [
      "Predicted:  5  Actual:  6\n",
      "Predicted:  2  Actual:  7\n",
      "Predicted:  4  Actual:  9\n",
      "Predicted:  2  Actual:  1\n",
      "Predicted:  3  Actual:  8\n"
     ]
    },
    {
     "data": {
      "image/png": "[encoded data removed]",
      "text/plain": [
       "<Figure size 432x288 with 5 Axes>"
      ]
     },
     "metadata": {
      "needs_background": "light"
     },
     "output_type": "display_data"
    }
   ],
   "source": [
    "num_img_to_show = 5\n",
    "fig, axs = plt.subplots(num_img_to_show)\n",
    "\n",
    "for i in range(num_img_to_show):\n",
    "    axs[i].imshow(X_eval_wrong[i].reshape(28, 28))\n",
    "    print(\"Predicted: \", y_pred_wrong[i], \" Actual: \", y_eval_wrong[i])"
   ]
  },
  {
   "cell_type": "markdown",
   "metadata": {},
   "source": [
    "## Final model\n",
    "\n",
    "Now we have selected the appropriate neural network model, we re-train the model by combining x_train and x_test to be used as the training set (so we have more training data, which generally yields higher accuracy). We will use x_eval as the validation set, and remember the weight with the highest validation accuraccy to be used for final prediction."
   ]
  },
  {
   "cell_type": "code",
   "execution_count": 22,
   "metadata": {},
   "outputs": [
    {
     "name": "stdout",
     "output_type": "stream",
     "text": [
      "Model: \"sequential_4\"\n",
      "_________________________________________________________________\n",
      "Layer (type)                 Output Shape              Param #   \n",
      "=================================================================\n",
      "conv2d_11 (Conv2D)           (None, 26, 26, 10)        100       \n",
      "_________________________________________________________________\n",
      "batch_normalization_14 (Batc (None, 26, 26, 10)        40        \n",
      "_________________________________________________________________\n",
      "conv2d_12 (Conv2D)           (None, 24, 24, 20)        1820      \n",
      "_________________________________________________________________\n",
      "batch_normalization_15 (Batc (None, 24, 24, 20)        80        \n",
      "_________________________________________________________________\n",
      "dropout_8 (Dropout)          (None, 24, 24, 20)        0         \n",
      "_________________________________________________________________\n",
      "flatten_4 (Flatten)          (None, 11520)             0         \n",
      "_________________________________________________________________\n",
      "dense_7 (Dense)              (None, 64)                737344    \n",
      "_________________________________________________________________\n",
      "batch_normalization_16 (Batc (None, 64)                256       \n",
      "_________________________________________________________________\n",
      "dropout_9 (Dropout)          (None, 64)                0         \n",
      "_________________________________________________________________\n",
      "dense_8 (Dense)              (None, 10)                650       \n",
      "=================================================================\n",
      "Total params: 740,290\n",
      "Trainable params: 740,102\n",
      "Non-trainable params: 188\n",
      "_________________________________________________________________\n",
      "None\n"
     ]
    }
   ],
   "source": [
    "finalmodel = get_model()\n",
    "finalmodel.compile(\n",
    "    # set the loss as binary_crossentropy\n",
    "    loss=keras.losses.CategoricalCrossentropy(),\n",
    "    # set the optimizer as adam\n",
    "    optimizer=\"adam\",\n",
    "    # set the metric as accuracy\n",
    "    metrics=['accuracy']\n",
    ")\n",
    "\n",
    "finalmodel.load_weights(weights_fname + '-best.h5')\n",
    "\n",
    "print(finalmodel.summary())"
   ]
  },
  {
   "cell_type": "code",
   "execution_count": 23,
   "metadata": {},
   "outputs": [
    {
     "name": "stdout",
     "output_type": "stream",
     "text": [
      "Epoch 1/25\n",
      "525/525 [==============================] - 31s 59ms/step - loss: 0.0974 - accuracy: 0.9699 - val_loss: 0.0462 - val_accuracy: 0.9860\n",
      "\n",
      "Epoch 00001: val_accuracy did not improve from 0.98824\n",
      "Epoch 2/25\n",
      "525/525 [==============================] - 31s 59ms/step - loss: 0.0965 - accuracy: 0.9699 - val_loss: 0.0636 - val_accuracy: 0.9810\n",
      "\n",
      "Epoch 00002: val_accuracy did not improve from 0.98824\n",
      "Epoch 3/25\n",
      "525/525 [==============================] - 30s 58ms/step - loss: 0.0976 - accuracy: 0.9704 - val_loss: 0.0676 - val_accuracy: 0.9818\n",
      "\n",
      "Epoch 00003: val_accuracy did not improve from 0.98824\n",
      "Epoch 4/25\n",
      "525/525 [==============================] - 32s 62ms/step - loss: 0.0891 - accuracy: 0.9733 - val_loss: 0.0533 - val_accuracy: 0.9832\n",
      "\n",
      "Epoch 00004: val_accuracy did not improve from 0.98824\n",
      "Epoch 5/25\n",
      "525/525 [==============================] - 36s 68ms/step - loss: 0.0926 - accuracy: 0.9722 - val_loss: 0.0485 - val_accuracy: 0.9852\n",
      "\n",
      "Epoch 00005: val_accuracy did not improve from 0.98824\n",
      "Epoch 6/25\n",
      "525/525 [==============================] - 31s 58ms/step - loss: 0.0897 - accuracy: 0.9720 - val_loss: 0.0501 - val_accuracy: 0.9854\n",
      "\n",
      "Epoch 00006: val_accuracy did not improve from 0.98824\n",
      "Epoch 7/25\n",
      "525/525 [==============================] - 31s 58ms/step - loss: 0.0886 - accuracy: 0.9734 - val_loss: 0.0533 - val_accuracy: 0.9848\n",
      "\n",
      "Epoch 00007: val_accuracy did not improve from 0.98824\n",
      "Epoch 8/25\n",
      "525/525 [==============================] - 30s 56ms/step - loss: 0.0829 - accuracy: 0.9753 - val_loss: 0.0366 - val_accuracy: 0.9890\n",
      "\n",
      "Epoch 00008: val_accuracy improved from 0.98824 to 0.98905, saving model to mnist-best.h5\n",
      "Epoch 9/25\n",
      "525/525 [==============================] - 31s 60ms/step - loss: 0.0842 - accuracy: 0.9735 - val_loss: 0.0495 - val_accuracy: 0.9863\n",
      "\n",
      "Epoch 00009: val_accuracy did not improve from 0.98905\n",
      "Epoch 10/25\n",
      "525/525 [==============================] - 30s 57ms/step - loss: 0.0839 - accuracy: 0.9740 - val_loss: 0.0452 - val_accuracy: 0.9862\n",
      "\n",
      "Epoch 00010: val_accuracy did not improve from 0.98905\n",
      "Epoch 11/25\n",
      "525/525 [==============================] - 30s 58ms/step - loss: 0.0800 - accuracy: 0.9750 - val_loss: 0.0420 - val_accuracy: 0.9879\n",
      "\n",
      "Epoch 00011: val_accuracy did not improve from 0.98905\n",
      "Epoch 12/25\n",
      "525/525 [==============================] - 30s 58ms/step - loss: 0.0784 - accuracy: 0.9758 - val_loss: 0.0429 - val_accuracy: 0.9880\n",
      "\n",
      "Epoch 00012: val_accuracy did not improve from 0.98905\n",
      "Epoch 13/25\n",
      "525/525 [==============================] - 30s 57ms/step - loss: 0.0770 - accuracy: 0.9759 - val_loss: 0.0514 - val_accuracy: 0.9863\n",
      "\n",
      "Epoch 00013: val_accuracy did not improve from 0.98905\n",
      "Epoch 14/25\n",
      "525/525 [==============================] - 30s 57ms/step - loss: 0.0762 - accuracy: 0.9764 - val_loss: 0.0428 - val_accuracy: 0.9877\n",
      "\n",
      "Epoch 00014: val_accuracy did not improve from 0.98905\n",
      "Epoch 15/25\n",
      "525/525 [==============================] - 30s 58ms/step - loss: 0.0749 - accuracy: 0.9767 - val_loss: 0.0366 - val_accuracy: 0.9894\n",
      "\n",
      "Epoch 00015: val_accuracy improved from 0.98905 to 0.98940, saving model to mnist-best.h5\n",
      "Epoch 16/25\n",
      "525/525 [==============================] - 30s 57ms/step - loss: 0.0733 - accuracy: 0.9779 - val_loss: 0.0587 - val_accuracy: 0.9833\n",
      "\n",
      "Epoch 00016: val_accuracy did not improve from 0.98940\n",
      "Epoch 17/25\n",
      "525/525 [==============================] - 30s 58ms/step - loss: 0.0740 - accuracy: 0.9781 - val_loss: 0.0497 - val_accuracy: 0.9857\n",
      "\n",
      "Epoch 00017: val_accuracy did not improve from 0.98940\n",
      "Epoch 18/25\n",
      "525/525 [==============================] - 30s 57ms/step - loss: 0.0755 - accuracy: 0.9771 - val_loss: 0.0405 - val_accuracy: 0.9888\n",
      "\n",
      "Epoch 00018: val_accuracy did not improve from 0.98940\n",
      "Epoch 19/25\n",
      "525/525 [==============================] - 30s 58ms/step - loss: 0.0696 - accuracy: 0.9792 - val_loss: 0.0483 - val_accuracy: 0.9862\n",
      "\n",
      "Epoch 00019: val_accuracy did not improve from 0.98940\n",
      "Epoch 20/25\n",
      "525/525 [==============================] - 31s 59ms/step - loss: 0.0717 - accuracy: 0.9780 - val_loss: 0.0389 - val_accuracy: 0.9888\n",
      "\n",
      "Epoch 00020: val_accuracy did not improve from 0.98940\n",
      "Epoch 21/25\n",
      "525/525 [==============================] - 30s 57ms/step - loss: 0.0717 - accuracy: 0.9777 - val_loss: 0.0359 - val_accuracy: 0.9889\n",
      "\n",
      "Epoch 00021: val_accuracy did not improve from 0.98940\n",
      "Epoch 22/25\n",
      "525/525 [==============================] - 30s 58ms/step - loss: 0.0729 - accuracy: 0.9786 - val_loss: 0.0332 - val_accuracy: 0.9902\n",
      "\n",
      "Epoch 00022: val_accuracy improved from 0.98940 to 0.99024, saving model to mnist-best.h5\n",
      "Epoch 23/25\n",
      "525/525 [==============================] - 30s 57ms/step - loss: 0.0699 - accuracy: 0.9790 - val_loss: 0.0389 - val_accuracy: 0.9889\n",
      "\n",
      "Epoch 00023: val_accuracy did not improve from 0.99024\n",
      "Epoch 24/25\n",
      "525/525 [==============================] - 29s 56ms/step - loss: 0.0696 - accuracy: 0.9788 - val_loss: 0.0530 - val_accuracy: 0.9840\n",
      "\n",
      "Epoch 00024: val_accuracy did not improve from 0.99024\n",
      "Epoch 25/25\n",
      "525/525 [==============================] - 38s 71ms/step - loss: 0.0685 - accuracy: 0.9782 - val_loss: 0.0425 - val_accuracy: 0.9876\n",
      "\n",
      "Epoch 00025: val_accuracy did not improve from 0.99024\n"
     ]
    }
   ],
   "source": [
    "finalhistory = finalmodel.fit(\n",
    "    datagen.flow(x_interim,\n",
    "    y_interim,\n",
    "    batch_size=64),\n",
    "    steps_per_epoch=x_interim.shape[0] / 64,\n",
    "    verbose=1,\n",
    "    epochs=25,\n",
    "    validation_data=(x_eval, y_eval),\n",
    "    callbacks=[checkpoints#, learning_rate_reduction\n",
    "              ],\n",
    ")"
   ]
  },
  {
   "cell_type": "code",
   "execution_count": 24,
   "metadata": {},
   "outputs": [],
   "source": [
    "finalmodel.load_weights(weights_fname + '-best.h5')\n",
    "predictions = finalmodel.predict_classes(Xtest)\n",
    "my_submission = pd.DataFrame({'ImageId': range(1, len(predictions)+1), 'Label': predictions})\n",
    "my_submission.to_csv('submission.csv', index=False)"
   ]
  },
  {
   "cell_type": "markdown",
   "metadata": {},
   "source": [
    "Our final neural network reaches an accuracy score of 0.991 on 25% of the Kaggle test data.\n",
    "\n",
    "The neural network commented (in the get_model function) can reach an accuracy score of 0.996."
   ]
  }
 ],
 "metadata": {
  "kernelspec": {
   "display_name": "Python 3",
   "language": "python",
   "name": "python3"
  },
  "language_info": {
   "codemirror_mode": {
    "name": "ipython",
    "version": 3
   },
   "file_extension": ".py",
   "mimetype": "text/x-python",
   "name": "python",
   "nbconvert_exporter": "python",
   "pygments_lexer": "ipython3",
   "version": "3.6.5"
  }
 },
 "nbformat": 4,
 "nbformat_minor": 4
}
